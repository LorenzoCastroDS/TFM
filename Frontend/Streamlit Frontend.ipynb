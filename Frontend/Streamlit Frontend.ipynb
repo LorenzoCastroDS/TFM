{
 "cells": [
  {
   "cell_type": "markdown",
   "id": "6b143e84",
   "metadata": {},
   "source": [
    "# Engine Prognosis Modelling Streamlit frontend"
   ]
  },
  {
   "cell_type": "markdown",
   "id": "b89a11b5",
   "metadata": {},
   "source": [
    "Some of the meain features from FD001 will be represented by using streamlit tools, looking for more visual and interactive environmet to analyse the different engine's features.\n",
    "\n",
    "Last, the user will be able to use one of the best models designed in FD001 to perform direct predictions in engines which have not yet failed, and by selecting the cycle number, it will provide the expected remaining useful life.\n",
    "Additionally, this environment provides the possibility to include a sudden issue noticed in last flight monitored, which cases an increase in several sensor measurements due to the malfunction of related engine components. This specific values increase will provide new values for the predicted RUL, and the tool will notice the user if the issue found hastens the need of a precocious maintenance"
   ]
  },
  {
   "cell_type": "code",
   "execution_count": 30,
   "id": "c2f887ce",
   "metadata": {},
   "outputs": [
    {
     "name": "stdout",
     "output_type": "stream",
     "text": [
      "Requirement already satisfied: plotly in c:\\users\\nerol\\anaconda3\\envs\\streamlit_env\\lib\\site-packages (5.5.0)\n",
      "Requirement already satisfied: tenacity>=6.2.0 in c:\\users\\nerol\\anaconda3\\envs\\streamlit_env\\lib\\site-packages (from plotly) (8.0.1)\n",
      "Requirement already satisfied: six in c:\\users\\nerol\\anaconda3\\envs\\streamlit_env\\lib\\site-packages (from plotly) (1.16.0)\n"
     ]
    }
   ],
   "source": [
    "# First step is to install necessary package to visualize plots in streamlit\n",
    "!pip install plotly"
   ]
  },
  {
   "cell_type": "code",
   "execution_count": 134,
   "id": "c3ebf4b4",
   "metadata": {},
   "outputs": [
    {
     "name": "stdout",
     "output_type": "stream",
     "text": [
      "Overwriting app.py\n"
     ]
    }
   ],
   "source": [
    "%%writefile app.py\n",
    "\n",
    "import streamlit as st\n",
    "import pandas as pd\n",
    "import matplotlib.pyplot as plt\n",
    "import numpy as np\n",
    "import plotly.express as px\n",
    "import seaborn as sns\n",
    "from sklearn.ensemble import RandomForestRegressor\n",
    "import altair as alt\n",
    "\n",
    "st.title(\"Engine Prognosis Modelling Frontend\")\n",
    "st.write(\"It has been developed a simple interactive frontend to allow the user to play a bit \\\n",
    "        with some variables from the dataset\")\n",
    "\n",
    "# Preparation for features visualization\n",
    "df = pd.read_pickle(\"df_stream.pkl\")\n",
    "df1  = df[df[\"ID\"]==1]\n",
    "\n",
    "st.table(df1.head())\n",
    "st.write(\"Above, a sample is exposed with all the monitored variables from 100 engine units along their \\\n",
    "        operational lifes\")\n",
    "\n",
    "df_max_cycles = df.groupby(\"ID\").max(\"Cycle\").reset_index()[\"Cycle\"]\n",
    "st.bar_chart(df_max_cycles)\n",
    "st.write(\"These engines have been performing until their end of life, as each engine is different from the others \\\n",
    "        each unit will fail during performance at a different flight cycle. \\\n",
    "        The chart above shows the maximum number of cycles reached by each engine unit\")\n",
    "\n",
    "st.subheader(\"Operational settings and sensor variation per engine\")\n",
    "st.write(\"Along their operational lifes, the sensors located throughout the different engine stages \\\n",
    "have managed to catch different magnitudes along the performance which, in these cases, where measurements \\\n",
    "have been already filtered for this study, it is to be noticed the increasing or decreasing trend of the sensors \\\n",
    "which shows the incoming cycle of failure from the engine\")\n",
    "\n",
    "st.write(\"The user now can have a vision of each of these sensors evolution, by selecting both an engine \\\n",
    "unit and the feature to visualize\")\n",
    "\n",
    "engine_option = df[\"ID\"].unique().tolist()\n",
    "ids_ = st.selectbox(\"Which engine unit to display?\", engine_option,0)\n",
    "df_id=df[df[\"ID\"]==ids_]\n",
    "\n",
    "filtered = st.multiselect(\"Choose features to display\", options=list(df.columns), default=list(df.columns))\n",
    "df_id_fil = df_id[filtered]\n",
    "\n",
    "fig1 = px.line(df_id_fil)\n",
    "st.write(fig1)\n",
    "\n",
    "\n",
    "st.title(\"Remaining useful life prediction\")\n",
    "st.subheader(\"Specific remaining useful life prediction when engine, cycles and sensors damage are fixed\")\n",
    "\n",
    "st.write(\"Imagine you are a maintenance engineer working in the hangar of an airline. \\\n",
    "       It is into your work schedule to receive aircrafts after each flight cycle, to perform \\\n",
    "       a basic inspection of sensor measurements, \\\n",
    "       as you have developed your prediction model based on historical data, you are now able to apply it \\\n",
    "       for this preliminary check of sensor magnitudes, and determine whether the engine is able to continue performing \\\n",
    "       or perhaps it should need a deeper maintenance check now or in the inmediate future\")\n",
    "\n",
    "st.text(\"Choose engine number\")\n",
    "engine_option_ = df[\"ID\"].unique().tolist()\n",
    "id_ = st.selectbox(\"Which engine unit to display?\", engine_option_,1)\n",
    "df_id_=df[df[\"ID\"]==id_]\n",
    "\n",
    "cycle_option = df_id_[\"Cycle\"].unique().tolist()\n",
    "cycles = st.selectbox(\"How many flights the engine has performed?\", cycle_option,1)\n",
    "\n",
    "\n",
    "X_train = df.drop(columns=[\"ID\",\"RUL\"])\n",
    "y_train = df[\"RUL\"]\n",
    "df_test = df[df[\"ID\"]==id_].drop(columns=[\"ID\",\"RUL\"])\n",
    "X_test = df_test[df_test[\"Cycle\"]==cycles]\n",
    "sensors = [\"sensor_measurement_11\",\"sensor_measurement_3\",\"sensor_measurement_4\"]\n",
    "\n",
    "\n",
    "\n",
    "df_affected = pd.read_pickle(\"df_stream.pkl\")\n",
    "percents = np.arange(1,1.020,0.005).tolist()\n",
    "\n",
    "n_estimators = 64\n",
    "max_depth = 9\n",
    "min_samples_leaf = 10\n",
    "\n",
    "hyper_regr = RandomForestRegressor(n_estimators=n_estimators, max_depth=max_depth, min_samples_leaf=min_samples_leaf)\n",
    "hyper_regr.fit(X_train, y_train)\n",
    "\n",
    "preds = hyper_regr.predict(X_test).round(0)[0]\n",
    "\n",
    "st.write(\"Based on historical experience, this engine shall continue performing without any expected issue \\\n",
    "the following number of flights: \", preds)\n",
    "\n",
    "if preds <=10:\n",
    "    st.write(\"This engine needs maintenance now!\")\n",
    "elif 0 < preds < 50:\n",
    "    st.write(\"maintenance shall be schechuled soon\")\n",
    "else:\n",
    "    st.write(\"engine should perform good so far\")\n",
    "# Introduce the sudden damage for specific sensor measurements\n",
    "\n",
    "st.subheader(\"Addition of sudden sensor components\")\n",
    "st.write(\"In this theorical situation, imagine that, during the last flight, the pilot has reported a \\\n",
    "noticed malfunction in a specific stage of the engine, which has been alerted due to an increase in 3 \\\n",
    "specific sensor measurements: 3, 4 and 11 (located closely to Low Pressure Turbine)\")\n",
    "st.write(\"Your mission now is, by using the trained model, determine if these sensor values augmentation \\\n",
    "would carry an extra risk for flight safety from now on, and, depending on the number flights already performed, \\\n",
    "conclude if the engine remaining cycles number forecasted remains into security thresholds, or the initially expected \\\n",
    "maintenance shall be overtaken\")\n",
    "\n",
    "affect = st.selectbox(\"Sensors measurement value percentage augmented %\", percents,1)\n",
    "\n",
    "for sensor in sensors:\n",
    "    df_affected[sensor] = df_affected[sensor]*affect\n",
    "\n",
    "df_test_affected = df_affected[df_affected[\"ID\"]==id_].drop(columns=[\"ID\",\"RUL\"])\n",
    "X_test_affected = df_test_affected[df_test_affected[\"Cycle\"]==cycles]\n",
    "\n",
    "sensor_check = st.selectbox(\"Which sensor to display value increase due to reported failure?\", sensors,1)\n",
    "\n",
    "\n",
    "preds_affected = hyper_regr.predict(X_test_affected).round(0)[0]\n",
    "\n",
    "\n",
    "\n",
    "\n",
    "if preds_affected <=10:\n",
    "    st.write(\"This engine needs maintenance now!\")\n",
    "elif 0 < preds_affected < 50:\n",
    "    st.write(\"With these issues, this engine shall continue performing without any further serious risk \\\n",
    "the following number of flights: \", preds_affected,\n",
    "            \"however, a deeper maintenance shall be schechuled soon\")\n",
    "else:\n",
    "    st.write(\"With these issues, this engine shall continue performing without any further serious risk \\\n",
    "    the following number of flights\", preds_affected,\n",
    "            \"Hence, engine should perform good so far\")\n",
    "\n",
    "fig100 = px.line(        \n",
    "        df_test, #Data Frame\n",
    "        x = \"Cycle\", #Columns from the data frame\n",
    "        y = sensor_check,\n",
    "        title = \"Sensor Measurement\")\n",
    "\n",
    "fig100.add_scatter(x=df_test_affected['Cycle'], y=df_test_affected[sensor_check], name=\"sensor issued\")\n",
    "\n",
    "st.plotly_chart(fig100)\n"
   ]
  },
  {
   "cell_type": "code",
   "execution_count": 135,
   "id": "6f4395f9",
   "metadata": {},
   "outputs": [
    {
     "name": "stdout",
     "output_type": "stream",
     "text": [
      "^C\n"
     ]
    }
   ],
   "source": [
    "!streamlit run app.py"
   ]
  }
 ],
 "metadata": {
  "kernelspec": {
   "display_name": "Python 3 (ipykernel)",
   "language": "python",
   "name": "python3"
  },
  "language_info": {
   "codemirror_mode": {
    "name": "ipython",
    "version": 3
   },
   "file_extension": ".py",
   "mimetype": "text/x-python",
   "name": "python",
   "nbconvert_exporter": "python",
   "pygments_lexer": "ipython3",
   "version": "3.9.7"
  }
 },
 "nbformat": 4,
 "nbformat_minor": 5
}
