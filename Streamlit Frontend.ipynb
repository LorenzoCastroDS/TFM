{
 "cells": [
  {
   "cell_type": "markdown",
   "id": "6b143e84",
   "metadata": {},
   "source": [
    "Lo primero es generar un archivo que genera la app"
   ]
  },
  {
   "cell_type": "code",
   "execution_count": 30,
   "id": "c2f887ce",
   "metadata": {},
   "outputs": [
    {
     "name": "stdout",
     "output_type": "stream",
     "text": [
      "Requirement already satisfied: plotly in c:\\users\\nerol\\anaconda3\\envs\\streamlit_env\\lib\\site-packages (5.5.0)\n",
      "Requirement already satisfied: tenacity>=6.2.0 in c:\\users\\nerol\\anaconda3\\envs\\streamlit_env\\lib\\site-packages (from plotly) (8.0.1)\n",
      "Requirement already satisfied: six in c:\\users\\nerol\\anaconda3\\envs\\streamlit_env\\lib\\site-packages (from plotly) (1.16.0)\n"
     ]
    }
   ],
   "source": [
    "!pip install plotly"
   ]
  },
  {
   "cell_type": "code",
   "execution_count": 1,
   "id": "8135b89b",
   "metadata": {},
   "outputs": [
    {
     "name": "stdout",
     "output_type": "stream",
     "text": [
      "Overwriting app.py\n"
     ]
    }
   ],
   "source": [
    "%%writefile app.py\n",
    "\n",
    "import streamlit as st\n",
    "import pandas as pd\n",
    "import matplotlib.pyplot as plt\n",
    "import numpy as np\n",
    "import plotly.express as px\n",
    "import seaborn as sns\n",
    "from sklearn.linear_model import LinearRegression\n",
    "from sklearn.metrics import mean_absolute_error, mean_squared_error, r2_score\n",
    "from sklearn.preprocessing import PolynomialFeatures\n",
    "st.title(\"Frontend\")\n",
    "\n",
    "\n",
    "df = pd.read_pickle(\"df_stream.pkl\")\n",
    "# Tabla\n",
    "st.table(df.head())\n",
    "\n",
    "df1  = df[df[\"ID\"]==1]\n",
    "df_max_cycles = df.groupby(\"ID\").max(\"Cycle\").reset_index()[\"Cycle\"]\n",
    "st.bar_chart(df_max_cycles)\n",
    "\n",
    "#ID engine\n",
    "st.subheader(\"Operational settings and sensor variation per engine\")\n",
    "st.text(\"ID engine must be entered\")\n",
    "\n",
    "engine_option = df[\"ID\"].unique().tolist()\n",
    "ids_ = st.selectbox(\"Which engine unit to display?\", engine_option,0)\n",
    "df_id=df[df[\"ID\"]==ids_]\n",
    "\n",
    "filtered = st.multiselect(\"Filter columns\", options=list(df.columns), default=list(df.columns))\n",
    "df_id_fil = df_id[filtered]\n",
    "\n",
    "fig1 = px.line(df_id_fil)\n",
    "st.write(fig1)\n",
    "\n",
    "# lr = LinearRegression()\n",
    "# X_train = df.drop(columns=[\"ID\",\"Cycle\",\"RUL\"])\n",
    "# y_train = df[\"RUL\"]\n",
    "\n",
    "\n",
    "# lr.fit(X_train,y_train)\n",
    "# preds = lr.predict(X_train)\n",
    "\n",
    "st.title(\"Remaining useful life prediction\")\n",
    "st.subheader(\"You're the maintenance chief engineer for airline XXX, you're working in the hangar and an aircraft enters \\\n",
    "        with engine X just performed flight n, what's the predicted number of flights remaining if everything's as usual?\")\n",
    "\n",
    "# st.text(\"Choose engine number\")\n",
    "# engine_option_ = df[\"ID\"].unique().tolist()\n",
    "# ids_ = st.selectbox(\"Which engine unit to display?\", engine_option_,1)\n",
    "# df_id_=df[df[\"ID\"]==ids_]\n",
    "\n",
    "#st.text(\"Choose number of flights already performed\")\n",
    "# cycle_option = df_id_[\"Cycle\"].unique().tolist()\n",
    "# cycles = st.selectbox(\"How many flights the engine has performed?\", cycle_option,0)\n",
    "# df_id_cycle=df_id_[df_id_[\"Cycle\"]==cycles]\n",
    "\n",
    "# st.write(df_id_cycle[\"RUL\"])\n",
    "# filtered = st.multiselect(\"Filter columns\", options=list(df.columns), default=list(df.columns))\n",
    "# df_id_fil = df_id[filtered]\n",
    "\n",
    "# fig1 = px.line(preds)\n",
    "# st.write(fig1)\n",
    "\n",
    "\n",
    "\n",
    "\n",
    "df_test = pd.read_pickle(\"df_stream_test.pkl\")\n",
    "rul = pd.read_pickle(\"df_stream_rul.pkl\")\n",
    "\n",
    "X_train = df.drop(columns=[\"ID\",\"Cycle\",\"RUL\"])\n",
    "y_train = df[\"RUL\"].clip(upper=125)\n",
    "X_test = df_test.groupby(\"ID\").last().reset_index().drop(columns=[\"ID\",\"Cycle\"])\n",
    "y_test = rul\n",
    "\n",
    "lr = LinearRegression()\n",
    "lr.fit(X_train, y_train)\n",
    "\n",
    "st.text(\"Choose engine number\")\n",
    "engine_option_ = df_test[\"ID\"].unique().tolist()\n",
    "id_ = st.selectbox(\"Which engine unit to display?\", engine_option_,1)\n",
    "df_id_=df_test[df_test[\"ID\"]==id_]\n",
    "\n",
    "cycle_option = df_id_[\"Cycle\"].unique().tolist()\n",
    "cycles = st.selectbox(\"How many flights the engine has performed?\", cycle_option,2)\n",
    "\n",
    "\n",
    "# cycles = st.text_input('Number of flights performed')\n",
    "df_test_cycle = df_test[df_test[\"Cycle\"]==int(cycles)]\n",
    "X_test_cycle = df_test_cycle.drop(columns=[\"ID\",\"Cycle\"]).reset_index(drop=True)\n",
    "\n",
    "sensors = [\"sensor_measurement_2\",\"sensor_measurement_3\",\"sensor_measurement_4\"]\n",
    "\n",
    "X_affected = X_test_cycle.copy()\n",
    "percents = np.arange(1,1.1,0.01).tolist()\n",
    "affect = st.selectbox(\"Sensors measurement augmented %\", percents,2)\n",
    "\n",
    "for sensor in sensors:\n",
    "    X_affected[sensor] = X_affected[sensor]*affect\n",
    "    \n",
    "preds = lr.predict(X_test_cycle).round(0)[id_]\n",
    "st.write(\"theorically, engine shall perform these cycles more: \", preds)\n",
    "\n",
    "preds_affected = lr.predict(X_affected).round(0)[id_]\n",
    "\n",
    "if preds_affected <=0:\n",
    "    st.write(\"This engine needs maintenance now!\")\n",
    "elif 0 < preds_affected < 20:\n",
    "    st.write(\"With these issues, engine is expected to perform these cycles more: \", preds_affected,\n",
    "            \"maintenance shall be schechuled soon\")\n",
    "else:\n",
    "    st.write(\"With these issues, engine is expected to perform these cycles more: \", preds_affected,\n",
    "            \"engine should perform good so far\")"
   ]
  },
  {
   "cell_type": "code",
   "execution_count": 2,
   "id": "46b55887",
   "metadata": {},
   "outputs": [
    {
     "name": "stdout",
     "output_type": "stream",
     "text": [
      "^C\n"
     ]
    }
   ],
   "source": [
    "!streamlit run app.py"
   ]
  }
 ],
 "metadata": {
  "kernelspec": {
   "display_name": "Python 3 (ipykernel)",
   "language": "python",
   "name": "python3"
  },
  "language_info": {
   "codemirror_mode": {
    "name": "ipython",
    "version": 3
   },
   "file_extension": ".py",
   "mimetype": "text/x-python",
   "name": "python",
   "nbconvert_exporter": "python",
   "pygments_lexer": "ipython3",
   "version": "3.9.7"
  }
 },
 "nbformat": 4,
 "nbformat_minor": 5
}
