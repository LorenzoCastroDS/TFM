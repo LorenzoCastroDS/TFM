{
 "cells": [
  {
   "cell_type": "code",
   "execution_count": 4,
   "metadata": {},
   "outputs": [
    {
     "name": "stdout",
     "output_type": "stream",
     "text": [
      "Writing app.py\n"
     ]
    }
   ],
   "source": [
    "%%writefile app.py\n",
    "import streamlit as st\n",
    "\n",
    "st.title(\"Super cool app with first streamlit test\")\n",
    "st.subheader(\"first subtitle in the app\")"
   ]
  },
  {
   "cell_type": "code",
   "execution_count": 3,
   "metadata": {},
   "outputs": [],
   "source": [
    "import pandas as pd\n",
    "stream_df = pd.read_csv('/home/dsc/Downloads/CMAPSSData/train_FD001.txt', sep=\" \", header=None)"
   ]
  },
  {
   "cell_type": "code",
   "execution_count": 96,
   "metadata": {},
   "outputs": [
    {
     "name": "stdout",
     "output_type": "stream",
     "text": [
      "Collecting sklearn\n",
      "  Downloading sklearn-0.0.tar.gz (1.1 kB)\n",
      "Collecting scikit-learn\n",
      "  Downloading scikit_learn-1.0.1-cp39-cp39-manylinux_2_12_x86_64.manylinux2010_x86_64.whl (24.7 MB)\n",
      "\u001b[K     |████████████████████████████████| 24.7 MB 13.3 MB/s eta 0:00:01    |██████████████▏                 | 11.0 MB 3.3 MB/s eta 0:00:05\n",
      "\u001b[?25hRequirement already satisfied: numpy>=1.14.6 in ./anaconda3/envs/streamlite_env/lib/python3.9/site-packages (from scikit-learn->sklearn) (1.21.2)\n",
      "Collecting joblib>=0.11\n",
      "  Downloading joblib-1.1.0-py2.py3-none-any.whl (306 kB)\n",
      "\u001b[K     |████████████████████████████████| 306 kB 41.0 MB/s eta 0:00:01\n",
      "\u001b[?25hRequirement already satisfied: scipy>=1.1.0 in ./anaconda3/envs/streamlite_env/lib/python3.9/site-packages (from scikit-learn->sklearn) (1.7.1)\n",
      "Collecting threadpoolctl>=2.0.0\n",
      "  Downloading threadpoolctl-3.0.0-py3-none-any.whl (14 kB)\n",
      "Building wheels for collected packages: sklearn\n",
      "  Building wheel for sklearn (setup.py) ... \u001b[?25ldone\n",
      "\u001b[?25h  Created wheel for sklearn: filename=sklearn-0.0-py2.py3-none-any.whl size=1309 sha256=67b98b6eed9cc2d405a83e9085807840885dcfc891936b44b67b082348244eab\n",
      "  Stored in directory: /home/dsc/.cache/pip/wheels/e4/7b/98/b6466d71b8d738a0c547008b9eb39bf8676d1ff6ca4b22af1c\n",
      "Successfully built sklearn\n",
      "Installing collected packages: threadpoolctl, joblib, scikit-learn, sklearn\n",
      "Successfully installed joblib-1.1.0 scikit-learn-1.0.1 sklearn-0.0 threadpoolctl-3.0.0\n"
     ]
    }
   ],
   "source": [
    "!pip install sklearn"
   ]
  },
  {
   "cell_type": "code",
   "execution_count": 109,
   "metadata": {
    "scrolled": true
   },
   "outputs": [
    {
     "data": {
      "text/plain": [
       "Index(['operarional_setting_1', 'operarional_setting_2',\n",
       "       'sensor_measurement_2', 'sensor_measurement_3', 'sensor_measurement_4',\n",
       "       'sensor_measurement_7', 'sensor_measurement_8', 'sensor_measurement_9',\n",
       "       'sensor_measurement_11', 'sensor_measurement_12',\n",
       "       'sensor_measurement_13', 'sensor_measurement_15',\n",
       "       'sensor_measurement_17', 'sensor_measurement_20',\n",
       "       'sensor_measurement_21'],\n",
       "      dtype='object')"
      ]
     },
     "execution_count": 109,
     "metadata": {},
     "output_type": "execute_result"
    }
   ],
   "source": [
    "df_stream = pd.read_csv('/home/dsc/git/TFM/TFM/df_train_1.csv', header=0, index_col=0)\n",
    "df_stream.shape\n",
    "X = df_stream.drop(columns=[\"ID\", \"Cycle\",\"RUL\"])\n",
    "y = df_stream[\"RUL\"]\n",
    "df_stream.columns[2:-1]"
   ]
  },
  {
   "cell_type": "code",
   "execution_count": 5,
   "metadata": {},
   "outputs": [
    {
     "name": "stdout",
     "output_type": "stream",
     "text": [
      "Overwriting app.py\n"
     ]
    }
   ],
   "source": [
    "%%writefile app.py\n",
    "\n",
    "import pandas as pd\n",
    "import numpy as np\n",
    "import matplotlib.pyplot as plt\n",
    "import streamlit as st\n",
    "import plotly.express as px\n",
    "import seaborn as sns\n",
    "from sklearn.ensemble import RandomForestRegressor\n",
    "from sklearn.metrics import mean_absolute_error, mean_squared_error, r2_score\n",
    "# Start of the AppWeb\n",
    "st.title(\"Engine Prognosis Modelling streamlit\")\n",
    "\n",
    "# Training dataset\n",
    "st.subheader(\"100 training engine units dataset\")\n",
    "df_stream = pd.read_csv('/home/dsc/git/TFM/TFM/df_train_1.csv', header=0, index_col=0)\n",
    "st.write(df_stream)\n",
    "\n",
    "# Max cycles per engine\n",
    "st.subheader(\"Max cycles achieved by each engine unit\")\n",
    "df_max_cycles = df_stream.groupby(\"ID\").max(\"Cycle\").reset_index()[\"Cycle\"]\n",
    "st.bar_chart(df_max_cycles)\n",
    "\n",
    "#ID engine\n",
    "st.subheader(\"Operational settings and sensor variation per engine\")\n",
    "st.text(\"ID engine must be entered\")\n",
    "\n",
    "engine_option = df_stream[\"ID\"].unique().tolist()\n",
    "ids = st.selectbox(\"Which engine unit to display?\", engine_option,0)\n",
    "df_stream_id=df_stream[df_stream[\"ID\"]==ids]\n",
    "\n",
    "#Column filter\n",
    "filtered = st.multiselect(\"Filter columns\", options=list(df_stream.columns), default=list(df_stream.columns))\n",
    "df_stream_id_fil = df_stream_id[filtered]\n",
    "\n",
    "fig1 = px.line(df_stream_id_fil)\n",
    "st.write(fig1)\n",
    "\n",
    "# Sensor subplots\n",
    "\n",
    "time = df_stream_id['Cycle']\n",
    "df_stream_id.drop(labels=['Cycle'],axis=1,inplace=True)\n",
    "cols = df_stream_id.columns[1:]\n",
    "    \n",
    "# Machine learning!\n",
    "\n",
    "st.subheader(\"Set the training features of our model\")\n",
    "st.text(\"Define the parameters\")\n",
    "\n",
    "sel_col, disp_col = st.columns(2)\n",
    "max_depth = sel_col.slider(\"Depth of our model?\", min_value=10, max_value=200, value=20, step=10)\n",
    "n_estimators = sel_col.selectbox(\"How many trees should there be?\", options=[100,200,300,\"No limit\"], index=0)\n",
    "#input_feature = sel_col.text_input(\"Which feature should be used as input feature?\", \"sensor_measurement_1\")\n",
    "#input_feature = sel_col.selectbox(\"Which feature should be used as input feature?\", options=df_stream.columns[2:-1], index=0)\n",
    "\n",
    "regr = RandomForestRegressor(max_depth=max_depth, n_estimators = n_estimators)\n",
    "X_train = df_stream.drop(columns=[\"ID\", \"Cycle\",\"RUL\"])\n",
    "y_train = df_stream[\"RUL\"]\n",
    "\n",
    "regr.fit(X_train,y_train)\n",
    "preds = regr.predict(X_train)\n",
    "\n",
    "disp_col.subheader(\"Mean absolute Error:\")\n",
    "disp_col.write(mean_absolute_error(y_train, preds))\n",
    "disp_col.subheader(\"Mean Squared Error:\")\n",
    "disp_col.write(mean_squared_error(y_train, preds))\n",
    "disp_col.subheader(\"R^2 Score:\")\n",
    "disp_col.write(r2_score(y_train, preds))\n"
   ]
  },
  {
   "cell_type": "code",
   "execution_count": 57,
   "metadata": {},
   "outputs": [
    {
     "data": {
      "text/html": [
       "<div>\n",
       "<style scoped>\n",
       "    .dataframe tbody tr th:only-of-type {\n",
       "        vertical-align: middle;\n",
       "    }\n",
       "\n",
       "    .dataframe tbody tr th {\n",
       "        vertical-align: top;\n",
       "    }\n",
       "\n",
       "    .dataframe thead th {\n",
       "        text-align: right;\n",
       "    }\n",
       "</style>\n",
       "<table border=\"1\" class=\"dataframe\">\n",
       "  <thead>\n",
       "    <tr style=\"text-align: right;\">\n",
       "      <th></th>\n",
       "      <th>ID</th>\n",
       "      <th>Cycle</th>\n",
       "    </tr>\n",
       "  </thead>\n",
       "  <tbody>\n",
       "    <tr>\n",
       "      <th>0</th>\n",
       "      <td>1</td>\n",
       "      <td>192</td>\n",
       "    </tr>\n",
       "    <tr>\n",
       "      <th>1</th>\n",
       "      <td>2</td>\n",
       "      <td>287</td>\n",
       "    </tr>\n",
       "    <tr>\n",
       "      <th>2</th>\n",
       "      <td>3</td>\n",
       "      <td>179</td>\n",
       "    </tr>\n",
       "    <tr>\n",
       "      <th>3</th>\n",
       "      <td>4</td>\n",
       "      <td>189</td>\n",
       "    </tr>\n",
       "    <tr>\n",
       "      <th>4</th>\n",
       "      <td>5</td>\n",
       "      <td>269</td>\n",
       "    </tr>\n",
       "    <tr>\n",
       "      <th>...</th>\n",
       "      <td>...</td>\n",
       "      <td>...</td>\n",
       "    </tr>\n",
       "    <tr>\n",
       "      <th>95</th>\n",
       "      <td>96</td>\n",
       "      <td>336</td>\n",
       "    </tr>\n",
       "    <tr>\n",
       "      <th>96</th>\n",
       "      <td>97</td>\n",
       "      <td>202</td>\n",
       "    </tr>\n",
       "    <tr>\n",
       "      <th>97</th>\n",
       "      <td>98</td>\n",
       "      <td>156</td>\n",
       "    </tr>\n",
       "    <tr>\n",
       "      <th>98</th>\n",
       "      <td>99</td>\n",
       "      <td>185</td>\n",
       "    </tr>\n",
       "    <tr>\n",
       "      <th>99</th>\n",
       "      <td>100</td>\n",
       "      <td>200</td>\n",
       "    </tr>\n",
       "  </tbody>\n",
       "</table>\n",
       "<p>100 rows × 2 columns</p>\n",
       "</div>"
      ],
      "text/plain": [
       "     ID  Cycle\n",
       "0     1    192\n",
       "1     2    287\n",
       "2     3    179\n",
       "3     4    189\n",
       "4     5    269\n",
       "..  ...    ...\n",
       "95   96    336\n",
       "96   97    202\n",
       "97   98    156\n",
       "98   99    185\n",
       "99  100    200\n",
       "\n",
       "[100 rows x 2 columns]"
      ]
     },
     "execution_count": 57,
     "metadata": {},
     "output_type": "execute_result"
    }
   ],
   "source": [
    "import pandas as pd\n",
    "import numpy as np\n",
    "import matplotlib.pyplot as plt\n",
    "import streamlit as st\n",
    "import plotly.express as px\n",
    "\n",
    "df_stream = pd.read_csv('/home/dsc/git/TFM/TFM/df_train_1.csv', header=0, index_col=0)\n",
    "st.write(df_stream)\n",
    "df_stream.groupby(\"ID\").max(\"Cycle\").reset_index()[[\"ID\",\"Cycle\"]]"
   ]
  },
  {
   "cell_type": "code",
   "execution_count": null,
   "metadata": {
    "scrolled": true
   },
   "outputs": [
    {
     "name": "stdout",
     "output_type": "stream",
     "text": [
      "\u001b[0m\n",
      "\u001b[34m\u001b[1m  You can now view your Streamlit app in your browser.\u001b[0m\n",
      "\u001b[0m\n",
      "\u001b[34m  Local URL: \u001b[0m\u001b[1mhttp://localhost:8501\u001b[0m\n",
      "\u001b[34m  Network URL: \u001b[0m\u001b[1mhttp://10.0.2.15:8501\u001b[0m\n",
      "\u001b[0m\n",
      "2021-11-16 17:07:54.306 NumExpr defaulting to 2 threads.\n",
      "/home/dsc/anaconda3/lib/python3.8/site-packages/pandas/core/frame.py:4163: SettingWithCopyWarning:\n",
      "\n",
      "\n",
      "A value is trying to be set on a copy of a slice from a DataFrame\n",
      "\n",
      "See the caveats in the documentation: https://pandas.pydata.org/pandas-docs/stable/user_guide/indexing.html#returning-a-view-versus-a-copy\n",
      "\n",
      "/home/dsc/anaconda3/lib/python3.8/site-packages/pandas/core/frame.py:4163: SettingWithCopyWarning:\n",
      "\n",
      "\n",
      "A value is trying to be set on a copy of a slice from a DataFrame\n",
      "\n",
      "See the caveats in the documentation: https://pandas.pydata.org/pandas-docs/stable/user_guide/indexing.html#returning-a-view-versus-a-copy\n",
      "\n"
     ]
    }
   ],
   "source": [
    "!streamlit run app.py"
   ]
  },
  {
   "cell_type": "code",
   "execution_count": null,
   "metadata": {},
   "outputs": [],
   "source": []
  }
 ],
 "metadata": {
  "kernelspec": {
   "display_name": "Python 3",
   "language": "python",
   "name": "python3"
  },
  "language_info": {
   "codemirror_mode": {
    "name": "ipython",
    "version": 3
   },
   "file_extension": ".py",
   "mimetype": "text/x-python",
   "name": "python",
   "nbconvert_exporter": "python",
   "pygments_lexer": "ipython3",
   "version": "3.8.5"
  }
 },
 "nbformat": 4,
 "nbformat_minor": 5
}
