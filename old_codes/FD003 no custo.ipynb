{
 "cells": [
  {
   "cell_type": "code",
   "execution_count": 1,
   "metadata": {},
   "outputs": [],
   "source": [
    "import pandas as pd\n",
    "import numpy as np\n",
    "import matplotlib.pyplot as plt\n",
    "from sklearn.linear_model import LinearRegression\n",
    "from sklearn.ensemble import RandomForestRegressor\n",
    "from sklearn.model_selection import RandomizedSearchCV\n",
    "from sklearn.svm import SVR\n",
    "from sklearn.preprocessing import MinMaxScaler\n",
    "from sklearn.metrics import *\n",
    "\n",
    "pd.set_option('display.max_rows', 500)\n",
    "pd.set_option('display.max_columns', 500)\n",
    "pd.set_option('display.width', 1000)"
   ]
  },
  {
   "cell_type": "code",
   "execution_count": 2,
   "metadata": {},
   "outputs": [],
   "source": [
    "%store -r df_train_3\n",
    "%store -r df_test_3\n",
    "%store -r df_RUL_3"
   ]
  },
  {
   "cell_type": "code",
   "execution_count": 3,
   "metadata": {},
   "outputs": [
    {
     "data": {
      "text/html": [
       "<div>\n",
       "<style scoped>\n",
       "    .dataframe tbody tr th:only-of-type {\n",
       "        vertical-align: middle;\n",
       "    }\n",
       "\n",
       "    .dataframe tbody tr th {\n",
       "        vertical-align: top;\n",
       "    }\n",
       "\n",
       "    .dataframe thead th {\n",
       "        text-align: right;\n",
       "    }\n",
       "</style>\n",
       "<table border=\"1\" class=\"dataframe\">\n",
       "  <thead>\n",
       "    <tr style=\"text-align: right;\">\n",
       "      <th></th>\n",
       "      <th>ID</th>\n",
       "      <th>Cycle</th>\n",
       "      <th>operarional_setting_1</th>\n",
       "      <th>operarional_setting_2</th>\n",
       "      <th>sensor_measurement_2</th>\n",
       "      <th>sensor_measurement_3</th>\n",
       "      <th>sensor_measurement_4</th>\n",
       "      <th>sensor_measurement_7</th>\n",
       "      <th>sensor_measurement_8</th>\n",
       "      <th>sensor_measurement_9</th>\n",
       "      <th>sensor_measurement_11</th>\n",
       "      <th>sensor_measurement_12</th>\n",
       "      <th>sensor_measurement_13</th>\n",
       "      <th>sensor_measurement_15</th>\n",
       "      <th>sensor_measurement_17</th>\n",
       "      <th>sensor_measurement_20</th>\n",
       "      <th>sensor_measurement_21</th>\n",
       "      <th>RUL</th>\n",
       "    </tr>\n",
       "  </thead>\n",
       "  <tbody>\n",
       "    <tr>\n",
       "      <th>0</th>\n",
       "      <td>1</td>\n",
       "      <td>1</td>\n",
       "      <td>-0.0005</td>\n",
       "      <td>0.0004</td>\n",
       "      <td>642.36</td>\n",
       "      <td>1583.23</td>\n",
       "      <td>1396.84</td>\n",
       "      <td>553.97</td>\n",
       "      <td>2387.96</td>\n",
       "      <td>9062.17</td>\n",
       "      <td>47.30</td>\n",
       "      <td>522.31</td>\n",
       "      <td>2388.01</td>\n",
       "      <td>8.4246</td>\n",
       "      <td>391</td>\n",
       "      <td>39.11</td>\n",
       "      <td>23.3537</td>\n",
       "      <td>258</td>\n",
       "    </tr>\n",
       "    <tr>\n",
       "      <th>1</th>\n",
       "      <td>1</td>\n",
       "      <td>2</td>\n",
       "      <td>0.0008</td>\n",
       "      <td>-0.0003</td>\n",
       "      <td>642.50</td>\n",
       "      <td>1584.69</td>\n",
       "      <td>1396.89</td>\n",
       "      <td>554.55</td>\n",
       "      <td>2388.00</td>\n",
       "      <td>9061.78</td>\n",
       "      <td>47.23</td>\n",
       "      <td>522.42</td>\n",
       "      <td>2388.03</td>\n",
       "      <td>8.4403</td>\n",
       "      <td>392</td>\n",
       "      <td>38.99</td>\n",
       "      <td>23.4491</td>\n",
       "      <td>257</td>\n",
       "    </tr>\n",
       "    <tr>\n",
       "      <th>2</th>\n",
       "      <td>1</td>\n",
       "      <td>3</td>\n",
       "      <td>-0.0014</td>\n",
       "      <td>-0.0002</td>\n",
       "      <td>642.18</td>\n",
       "      <td>1582.35</td>\n",
       "      <td>1405.61</td>\n",
       "      <td>554.43</td>\n",
       "      <td>2388.03</td>\n",
       "      <td>9070.23</td>\n",
       "      <td>47.22</td>\n",
       "      <td>522.03</td>\n",
       "      <td>2388.00</td>\n",
       "      <td>8.3901</td>\n",
       "      <td>391</td>\n",
       "      <td>38.85</td>\n",
       "      <td>23.3669</td>\n",
       "      <td>256</td>\n",
       "    </tr>\n",
       "    <tr>\n",
       "      <th>3</th>\n",
       "      <td>1</td>\n",
       "      <td>4</td>\n",
       "      <td>-0.0020</td>\n",
       "      <td>0.0001</td>\n",
       "      <td>642.92</td>\n",
       "      <td>1585.61</td>\n",
       "      <td>1392.27</td>\n",
       "      <td>555.21</td>\n",
       "      <td>2388.00</td>\n",
       "      <td>9064.57</td>\n",
       "      <td>47.24</td>\n",
       "      <td>522.49</td>\n",
       "      <td>2388.08</td>\n",
       "      <td>8.3878</td>\n",
       "      <td>392</td>\n",
       "      <td>38.96</td>\n",
       "      <td>23.2951</td>\n",
       "      <td>255</td>\n",
       "    </tr>\n",
       "    <tr>\n",
       "      <th>4</th>\n",
       "      <td>1</td>\n",
       "      <td>5</td>\n",
       "      <td>0.0016</td>\n",
       "      <td>0.0000</td>\n",
       "      <td>641.68</td>\n",
       "      <td>1588.63</td>\n",
       "      <td>1397.65</td>\n",
       "      <td>554.74</td>\n",
       "      <td>2388.04</td>\n",
       "      <td>9076.14</td>\n",
       "      <td>47.15</td>\n",
       "      <td>522.58</td>\n",
       "      <td>2388.03</td>\n",
       "      <td>8.3869</td>\n",
       "      <td>392</td>\n",
       "      <td>39.14</td>\n",
       "      <td>23.4583</td>\n",
       "      <td>254</td>\n",
       "    </tr>\n",
       "  </tbody>\n",
       "</table>\n",
       "</div>"
      ],
      "text/plain": [
       "   ID  Cycle  operarional_setting_1  operarional_setting_2  sensor_measurement_2  sensor_measurement_3  sensor_measurement_4  sensor_measurement_7  sensor_measurement_8  sensor_measurement_9  sensor_measurement_11  sensor_measurement_12  sensor_measurement_13  sensor_measurement_15  sensor_measurement_17  sensor_measurement_20  sensor_measurement_21  RUL\n",
       "0   1      1                -0.0005                 0.0004                642.36               1583.23               1396.84                553.97               2387.96               9062.17                  47.30                 522.31                2388.01                 8.4246                    391                  39.11                23.3537  258\n",
       "1   1      2                 0.0008                -0.0003                642.50               1584.69               1396.89                554.55               2388.00               9061.78                  47.23                 522.42                2388.03                 8.4403                    392                  38.99                23.4491  257\n",
       "2   1      3                -0.0014                -0.0002                642.18               1582.35               1405.61                554.43               2388.03               9070.23                  47.22                 522.03                2388.00                 8.3901                    391                  38.85                23.3669  256\n",
       "3   1      4                -0.0020                 0.0001                642.92               1585.61               1392.27                555.21               2388.00               9064.57                  47.24                 522.49                2388.08                 8.3878                    392                  38.96                23.2951  255\n",
       "4   1      5                 0.0016                 0.0000                641.68               1588.63               1397.65                554.74               2388.04               9076.14                  47.15                 522.58                2388.03                 8.3869                    392                  39.14                23.4583  254"
      ]
     },
     "execution_count": 3,
     "metadata": {},
     "output_type": "execute_result"
    }
   ],
   "source": [
    "df_train_3.head()"
   ]
  },
  {
   "cell_type": "code",
   "execution_count": 4,
   "metadata": {},
   "outputs": [
    {
     "data": {
      "text/html": [
       "<div>\n",
       "<style scoped>\n",
       "    .dataframe tbody tr th:only-of-type {\n",
       "        vertical-align: middle;\n",
       "    }\n",
       "\n",
       "    .dataframe tbody tr th {\n",
       "        vertical-align: top;\n",
       "    }\n",
       "\n",
       "    .dataframe thead th {\n",
       "        text-align: right;\n",
       "    }\n",
       "</style>\n",
       "<table border=\"1\" class=\"dataframe\">\n",
       "  <thead>\n",
       "    <tr style=\"text-align: right;\">\n",
       "      <th></th>\n",
       "      <th>ID</th>\n",
       "      <th>Cycle</th>\n",
       "      <th>operarional_setting_1</th>\n",
       "      <th>operarional_setting_2</th>\n",
       "      <th>sensor_measurement_2</th>\n",
       "      <th>sensor_measurement_3</th>\n",
       "      <th>sensor_measurement_4</th>\n",
       "      <th>sensor_measurement_7</th>\n",
       "      <th>sensor_measurement_8</th>\n",
       "      <th>sensor_measurement_9</th>\n",
       "      <th>sensor_measurement_11</th>\n",
       "      <th>sensor_measurement_12</th>\n",
       "      <th>sensor_measurement_13</th>\n",
       "      <th>sensor_measurement_15</th>\n",
       "      <th>sensor_measurement_17</th>\n",
       "      <th>sensor_measurement_20</th>\n",
       "      <th>sensor_measurement_21</th>\n",
       "    </tr>\n",
       "  </thead>\n",
       "  <tbody>\n",
       "    <tr>\n",
       "      <th>0</th>\n",
       "      <td>1</td>\n",
       "      <td>1</td>\n",
       "      <td>-0.0017</td>\n",
       "      <td>-0.0004</td>\n",
       "      <td>641.94</td>\n",
       "      <td>1581.93</td>\n",
       "      <td>1396.93</td>\n",
       "      <td>554.56</td>\n",
       "      <td>2387.93</td>\n",
       "      <td>9048.65</td>\n",
       "      <td>47.09</td>\n",
       "      <td>521.89</td>\n",
       "      <td>2387.94</td>\n",
       "      <td>8.3760</td>\n",
       "      <td>391</td>\n",
       "      <td>39.07</td>\n",
       "      <td>23.4468</td>\n",
       "    </tr>\n",
       "    <tr>\n",
       "      <th>1</th>\n",
       "      <td>1</td>\n",
       "      <td>2</td>\n",
       "      <td>0.0006</td>\n",
       "      <td>-0.0002</td>\n",
       "      <td>642.02</td>\n",
       "      <td>1584.86</td>\n",
       "      <td>1398.90</td>\n",
       "      <td>554.10</td>\n",
       "      <td>2387.94</td>\n",
       "      <td>9046.53</td>\n",
       "      <td>47.08</td>\n",
       "      <td>521.85</td>\n",
       "      <td>2388.01</td>\n",
       "      <td>8.4062</td>\n",
       "      <td>391</td>\n",
       "      <td>39.04</td>\n",
       "      <td>23.4807</td>\n",
       "    </tr>\n",
       "    <tr>\n",
       "      <th>2</th>\n",
       "      <td>1</td>\n",
       "      <td>3</td>\n",
       "      <td>0.0014</td>\n",
       "      <td>-0.0003</td>\n",
       "      <td>641.68</td>\n",
       "      <td>1581.78</td>\n",
       "      <td>1391.92</td>\n",
       "      <td>554.41</td>\n",
       "      <td>2387.97</td>\n",
       "      <td>9054.92</td>\n",
       "      <td>47.15</td>\n",
       "      <td>522.10</td>\n",
       "      <td>2387.94</td>\n",
       "      <td>8.3553</td>\n",
       "      <td>391</td>\n",
       "      <td>39.10</td>\n",
       "      <td>23.4244</td>\n",
       "    </tr>\n",
       "    <tr>\n",
       "      <th>3</th>\n",
       "      <td>1</td>\n",
       "      <td>4</td>\n",
       "      <td>0.0027</td>\n",
       "      <td>0.0001</td>\n",
       "      <td>642.20</td>\n",
       "      <td>1584.53</td>\n",
       "      <td>1395.34</td>\n",
       "      <td>554.58</td>\n",
       "      <td>2387.94</td>\n",
       "      <td>9055.04</td>\n",
       "      <td>47.26</td>\n",
       "      <td>522.45</td>\n",
       "      <td>2387.96</td>\n",
       "      <td>8.3709</td>\n",
       "      <td>392</td>\n",
       "      <td>38.97</td>\n",
       "      <td>23.4782</td>\n",
       "    </tr>\n",
       "    <tr>\n",
       "      <th>4</th>\n",
       "      <td>1</td>\n",
       "      <td>5</td>\n",
       "      <td>-0.0001</td>\n",
       "      <td>0.0001</td>\n",
       "      <td>642.46</td>\n",
       "      <td>1589.03</td>\n",
       "      <td>1395.86</td>\n",
       "      <td>554.16</td>\n",
       "      <td>2388.01</td>\n",
       "      <td>9048.59</td>\n",
       "      <td>46.94</td>\n",
       "      <td>521.91</td>\n",
       "      <td>2387.97</td>\n",
       "      <td>8.4146</td>\n",
       "      <td>391</td>\n",
       "      <td>39.09</td>\n",
       "      <td>23.3950</td>\n",
       "    </tr>\n",
       "  </tbody>\n",
       "</table>\n",
       "</div>"
      ],
      "text/plain": [
       "   ID  Cycle  operarional_setting_1  operarional_setting_2  sensor_measurement_2  sensor_measurement_3  sensor_measurement_4  sensor_measurement_7  sensor_measurement_8  sensor_measurement_9  sensor_measurement_11  sensor_measurement_12  sensor_measurement_13  sensor_measurement_15  sensor_measurement_17  sensor_measurement_20  sensor_measurement_21\n",
       "0   1      1                -0.0017                -0.0004                641.94               1581.93               1396.93                554.56               2387.93               9048.65                  47.09                 521.89                2387.94                 8.3760                    391                  39.07                23.4468\n",
       "1   1      2                 0.0006                -0.0002                642.02               1584.86               1398.90                554.10               2387.94               9046.53                  47.08                 521.85                2388.01                 8.4062                    391                  39.04                23.4807\n",
       "2   1      3                 0.0014                -0.0003                641.68               1581.78               1391.92                554.41               2387.97               9054.92                  47.15                 522.10                2387.94                 8.3553                    391                  39.10                23.4244\n",
       "3   1      4                 0.0027                 0.0001                642.20               1584.53               1395.34                554.58               2387.94               9055.04                  47.26                 522.45                2387.96                 8.3709                    392                  38.97                23.4782\n",
       "4   1      5                -0.0001                 0.0001                642.46               1589.03               1395.86                554.16               2388.01               9048.59                  46.94                 521.91                2387.97                 8.4146                    391                  39.09                23.3950"
      ]
     },
     "execution_count": 4,
     "metadata": {},
     "output_type": "execute_result"
    }
   ],
   "source": [
    "df_test_3.head()"
   ]
  },
  {
   "cell_type": "code",
   "execution_count": 5,
   "metadata": {},
   "outputs": [
    {
     "data": {
      "text/html": [
       "<div>\n",
       "<style scoped>\n",
       "    .dataframe tbody tr th:only-of-type {\n",
       "        vertical-align: middle;\n",
       "    }\n",
       "\n",
       "    .dataframe tbody tr th {\n",
       "        vertical-align: top;\n",
       "    }\n",
       "\n",
       "    .dataframe thead th {\n",
       "        text-align: right;\n",
       "    }\n",
       "</style>\n",
       "<table border=\"1\" class=\"dataframe\">\n",
       "  <thead>\n",
       "    <tr style=\"text-align: right;\">\n",
       "      <th></th>\n",
       "      <th>RUL</th>\n",
       "    </tr>\n",
       "  </thead>\n",
       "  <tbody>\n",
       "    <tr>\n",
       "      <th>0</th>\n",
       "      <td>44</td>\n",
       "    </tr>\n",
       "    <tr>\n",
       "      <th>1</th>\n",
       "      <td>51</td>\n",
       "    </tr>\n",
       "    <tr>\n",
       "      <th>2</th>\n",
       "      <td>27</td>\n",
       "    </tr>\n",
       "    <tr>\n",
       "      <th>3</th>\n",
       "      <td>120</td>\n",
       "    </tr>\n",
       "    <tr>\n",
       "      <th>4</th>\n",
       "      <td>101</td>\n",
       "    </tr>\n",
       "  </tbody>\n",
       "</table>\n",
       "</div>"
      ],
      "text/plain": [
       "   RUL\n",
       "0   44\n",
       "1   51\n",
       "2   27\n",
       "3  120\n",
       "4  101"
      ]
     },
     "execution_count": 5,
     "metadata": {},
     "output_type": "execute_result"
    }
   ],
   "source": [
    "df_RUL_3.head()"
   ]
  },
  {
   "cell_type": "markdown",
   "metadata": {},
   "source": [
    "# RandomForestRegressor"
   ]
  },
  {
   "cell_type": "code",
   "execution_count": 7,
   "metadata": {},
   "outputs": [
    {
     "name": "stdout",
     "output_type": "stream",
     "text": [
      "X_train columns:  Index(['operarional_setting_1', 'operarional_setting_2', 'sensor_measurement_2', 'sensor_measurement_3', 'sensor_measurement_4', 'sensor_measurement_7', 'sensor_measurement_8', 'sensor_measurement_9', 'sensor_measurement_11', 'sensor_measurement_12', 'sensor_measurement_13', 'sensor_measurement_15', 'sensor_measurement_17', 'sensor_measurement_20', 'sensor_measurement_21'], dtype='object') \n",
      " X_test columns:  Index(['operarional_setting_1', 'operarional_setting_2', 'sensor_measurement_2', 'sensor_measurement_3', 'sensor_measurement_4', 'sensor_measurement_7', 'sensor_measurement_8', 'sensor_measurement_9', 'sensor_measurement_11', 'sensor_measurement_12', 'sensor_measurement_13', 'sensor_measurement_15', 'sensor_measurement_17', 'sensor_measurement_20', 'sensor_measurement_21'], dtype='object') \n",
      " (24720,)\n"
     ]
    }
   ],
   "source": [
    "labels_to_drop = [\"ID\",\"Cycle\"]\n",
    "X_train3 = df_train_3.drop(labels_to_drop+[\"RUL\"], axis=1)\n",
    "y_train3 = df_train_3[\"RUL\"]\n",
    "\n",
    "X_test3 = df_test_3.groupby(\"ID\").last().reset_index().drop(labels_to_drop, axis=1)\n",
    "y_test3 = df_RUL_3\n",
    "print(\"X_train columns: \", X_train3.columns, \"\\n\",\n",
    "     \"X_test columns: \", X_test3.columns, \"\\n\",\n",
    "     y_train3.shape)"
   ]
  },
  {
   "cell_type": "code",
   "execution_count": 6,
   "metadata": {},
   "outputs": [
    {
     "name": "stdout",
     "output_type": "stream",
     "text": [
      "{'n_estimators': [10, 20, 30, 40, 50, 60, 70, 80, 90, 100], 'max_depth': [10, 20, 30, 40, 50, 60, 70, 80, 90, 100, 110]}\n"
     ]
    }
   ],
   "source": [
    "n_estimators = [int(x) for x in np.linspace(start = 10, stop = 100, num = 10)]\n",
    "max_depth = [int(x) for x in np.linspace(10, 110, num = 11)]\n",
    "\n",
    "random_grid = {'n_estimators': n_estimators,\n",
    "               'max_depth': max_depth}\n",
    "print(random_grid)"
   ]
  },
  {
   "cell_type": "code",
   "execution_count": 8,
   "metadata": {},
   "outputs": [
    {
     "data": {
      "text/plain": [
       "RandomizedSearchCV(estimator=RandomForestRegressor(),\n",
       "                   param_distributions={'max_depth': [10, 20, 30, 40, 50, 60,\n",
       "                                                      70, 80, 90, 100, 110],\n",
       "                                        'n_estimators': [10, 20, 30, 40, 50, 60,\n",
       "                                                         70, 80, 90, 100]},\n",
       "                   random_state=42)"
      ]
     },
     "execution_count": 8,
     "metadata": {},
     "output_type": "execute_result"
    }
   ],
   "source": [
    "regr = RandomForestRegressor()\n",
    "rf_random = RandomizedSearchCV(estimator=regr, param_distributions=random_grid, random_state=42)\n",
    "rf_random.fit(X_train3, y_train3)"
   ]
  },
  {
   "cell_type": "code",
   "execution_count": 9,
   "metadata": {},
   "outputs": [
    {
     "data": {
      "text/plain": [
       "RandomForestRegressor(max_depth=10, n_estimators=50)"
      ]
     },
     "execution_count": 9,
     "metadata": {},
     "output_type": "execute_result"
    }
   ],
   "source": [
    "n_estimators = list(rf_random.best_params_.values())[0]\n",
    "max_depth = list(rf_random.best_params_.values())[1]\n",
    "hyper_regr = RandomForestRegressor(n_estimators=n_estimators, max_depth=max_depth)\n",
    "hyper_regr.fit(X_train3, y_train3)"
   ]
  },
  {
   "cell_type": "code",
   "execution_count": 10,
   "metadata": {},
   "outputs": [
    {
     "name": "stdout",
     "output_type": "stream",
     "text": [
      "TRAIN METRICS for RF 3 \n",
      " MAE:  23.868694533404955 MSE:  2706.095339045164 RMSE:  52.02014358924016 R2 score:  0.7230275784246996\n"
     ]
    }
   ],
   "source": [
    "preds_model = hyper_regr.predict(X_train3)\n",
    "print(\"TRAIN METRICS for RF 3\", \"\\n\",\n",
    "                  \"MAE: \", median_absolute_error(y_train3, preds_model),\n",
    "                  \"MSE: \", mean_squared_error(y_train3, preds_model),\n",
    "                  \"RMSE: \",np.sqrt(mean_squared_error(y_train3, preds_model)),\n",
    "                  \"R2 score: \", r2_score(y_train3, preds_model))"
   ]
  },
  {
   "cell_type": "code",
   "execution_count": 11,
   "metadata": {},
   "outputs": [
    {
     "name": "stdout",
     "output_type": "stream",
     "text": [
      "TRAIN METRICS for RF 3 \n",
      " MAE:  25.697487520580445 MSE:  2377.601088391315 RMSE:  48.760651025097225 R2 score:  -0.3874909070783683\n"
     ]
    }
   ],
   "source": [
    "preds_model_test = hyper_regr.predict(X_test3)\n",
    "print(\"TRAIN METRICS for RF 3\", \"\\n\",\n",
    "                  \"MAE: \", median_absolute_error(y_test3, preds_model_test),\n",
    "                  \"MSE: \", mean_squared_error(y_test3, preds_model_test),\n",
    "                  \"RMSE: \",np.sqrt(mean_squared_error(y_test3, preds_model_test)),\n",
    "                  \"R2 score: \", r2_score(y_test3, preds_model_test))"
   ]
  },
  {
   "cell_type": "markdown",
   "metadata": {},
   "source": [
    "Addition of y_clip"
   ]
  },
  {
   "cell_type": "code",
   "execution_count": 14,
   "metadata": {},
   "outputs": [
    {
     "ename": "ValueError",
     "evalue": "Found input variables with inconsistent numbers of samples: [100, 16596]",
     "output_type": "error",
     "traceback": [
      "\u001b[0;31m---------------------------------------------------------------------------\u001b[0m",
      "\u001b[0;31mValueError\u001b[0m                                Traceback (most recent call last)",
      "\u001b[0;32m<ipython-input-14-1ca69c094dc9>\u001b[0m in \u001b[0;36m<module>\u001b[0;34m\u001b[0m\n\u001b[1;32m     27\u001b[0m \u001b[0;34m\u001b[0m\u001b[0m\n\u001b[1;32m     28\u001b[0m     \u001b[0mrul_test_pred_rf\u001b[0m \u001b[0;34m=\u001b[0m \u001b[0mhyper_regr\u001b[0m\u001b[0;34m.\u001b[0m\u001b[0mpredict\u001b[0m\u001b[0;34m(\u001b[0m\u001b[0mX_test\u001b[0m\u001b[0;34m)\u001b[0m\u001b[0;34m\u001b[0m\u001b[0;34m\u001b[0m\u001b[0m\n\u001b[0;32m---> 29\u001b[0;31m     \u001b[0mr2_ts\u001b[0m \u001b[0;34m=\u001b[0m \u001b[0mr2_score\u001b[0m\u001b[0;34m(\u001b[0m\u001b[0my_test\u001b[0m\u001b[0;34m,\u001b[0m \u001b[0mrul_test_pred_rf\u001b[0m\u001b[0;34m)\u001b[0m\u001b[0;34m\u001b[0m\u001b[0;34m\u001b[0m\u001b[0m\n\u001b[0m\u001b[1;32m     30\u001b[0m     \u001b[0mtest_scores_rf\u001b[0m\u001b[0;34m.\u001b[0m\u001b[0mappend\u001b[0m\u001b[0;34m(\u001b[0m\u001b[0mr2_ts\u001b[0m\u001b[0;34m)\u001b[0m\u001b[0;34m\u001b[0m\u001b[0;34m\u001b[0m\u001b[0m\n\u001b[1;32m     31\u001b[0m \u001b[0;34m\u001b[0m\u001b[0m\n",
      "\u001b[0;32m~/anaconda3/lib/python3.8/site-packages/sklearn/utils/validation.py\u001b[0m in \u001b[0;36minner_f\u001b[0;34m(*args, **kwargs)\u001b[0m\n\u001b[1;32m     70\u001b[0m                           FutureWarning)\n\u001b[1;32m     71\u001b[0m         \u001b[0mkwargs\u001b[0m\u001b[0;34m.\u001b[0m\u001b[0mupdate\u001b[0m\u001b[0;34m(\u001b[0m\u001b[0;34m{\u001b[0m\u001b[0mk\u001b[0m\u001b[0;34m:\u001b[0m \u001b[0marg\u001b[0m \u001b[0;32mfor\u001b[0m \u001b[0mk\u001b[0m\u001b[0;34m,\u001b[0m \u001b[0marg\u001b[0m \u001b[0;32min\u001b[0m \u001b[0mzip\u001b[0m\u001b[0;34m(\u001b[0m\u001b[0msig\u001b[0m\u001b[0;34m.\u001b[0m\u001b[0mparameters\u001b[0m\u001b[0;34m,\u001b[0m \u001b[0margs\u001b[0m\u001b[0;34m)\u001b[0m\u001b[0;34m}\u001b[0m\u001b[0;34m)\u001b[0m\u001b[0;34m\u001b[0m\u001b[0;34m\u001b[0m\u001b[0m\n\u001b[0;32m---> 72\u001b[0;31m         \u001b[0;32mreturn\u001b[0m \u001b[0mf\u001b[0m\u001b[0;34m(\u001b[0m\u001b[0;34m**\u001b[0m\u001b[0mkwargs\u001b[0m\u001b[0;34m)\u001b[0m\u001b[0;34m\u001b[0m\u001b[0;34m\u001b[0m\u001b[0m\n\u001b[0m\u001b[1;32m     73\u001b[0m     \u001b[0;32mreturn\u001b[0m \u001b[0minner_f\u001b[0m\u001b[0;34m\u001b[0m\u001b[0;34m\u001b[0m\u001b[0m\n\u001b[1;32m     74\u001b[0m \u001b[0;34m\u001b[0m\u001b[0m\n",
      "\u001b[0;32m~/anaconda3/lib/python3.8/site-packages/sklearn/metrics/_regression.py\u001b[0m in \u001b[0;36mr2_score\u001b[0;34m(y_true, y_pred, sample_weight, multioutput)\u001b[0m\n\u001b[1;32m    586\u001b[0m     \u001b[0;34m-\u001b[0m\u001b[0;36m3.0\u001b[0m\u001b[0;34m\u001b[0m\u001b[0;34m\u001b[0m\u001b[0m\n\u001b[1;32m    587\u001b[0m     \"\"\"\n\u001b[0;32m--> 588\u001b[0;31m     y_type, y_true, y_pred, multioutput = _check_reg_targets(\n\u001b[0m\u001b[1;32m    589\u001b[0m         y_true, y_pred, multioutput)\n\u001b[1;32m    590\u001b[0m     \u001b[0mcheck_consistent_length\u001b[0m\u001b[0;34m(\u001b[0m\u001b[0my_true\u001b[0m\u001b[0;34m,\u001b[0m \u001b[0my_pred\u001b[0m\u001b[0;34m,\u001b[0m \u001b[0msample_weight\u001b[0m\u001b[0;34m)\u001b[0m\u001b[0;34m\u001b[0m\u001b[0;34m\u001b[0m\u001b[0m\n",
      "\u001b[0;32m~/anaconda3/lib/python3.8/site-packages/sklearn/metrics/_regression.py\u001b[0m in \u001b[0;36m_check_reg_targets\u001b[0;34m(y_true, y_pred, multioutput, dtype)\u001b[0m\n\u001b[1;32m     82\u001b[0m \u001b[0;34m\u001b[0m\u001b[0m\n\u001b[1;32m     83\u001b[0m     \"\"\"\n\u001b[0;32m---> 84\u001b[0;31m     \u001b[0mcheck_consistent_length\u001b[0m\u001b[0;34m(\u001b[0m\u001b[0my_true\u001b[0m\u001b[0;34m,\u001b[0m \u001b[0my_pred\u001b[0m\u001b[0;34m)\u001b[0m\u001b[0;34m\u001b[0m\u001b[0;34m\u001b[0m\u001b[0m\n\u001b[0m\u001b[1;32m     85\u001b[0m     \u001b[0my_true\u001b[0m \u001b[0;34m=\u001b[0m \u001b[0mcheck_array\u001b[0m\u001b[0;34m(\u001b[0m\u001b[0my_true\u001b[0m\u001b[0;34m,\u001b[0m \u001b[0mensure_2d\u001b[0m\u001b[0;34m=\u001b[0m\u001b[0;32mFalse\u001b[0m\u001b[0;34m,\u001b[0m \u001b[0mdtype\u001b[0m\u001b[0;34m=\u001b[0m\u001b[0mdtype\u001b[0m\u001b[0;34m)\u001b[0m\u001b[0;34m\u001b[0m\u001b[0;34m\u001b[0m\u001b[0m\n\u001b[1;32m     86\u001b[0m     \u001b[0my_pred\u001b[0m \u001b[0;34m=\u001b[0m \u001b[0mcheck_array\u001b[0m\u001b[0;34m(\u001b[0m\u001b[0my_pred\u001b[0m\u001b[0;34m,\u001b[0m \u001b[0mensure_2d\u001b[0m\u001b[0;34m=\u001b[0m\u001b[0;32mFalse\u001b[0m\u001b[0;34m,\u001b[0m \u001b[0mdtype\u001b[0m\u001b[0;34m=\u001b[0m\u001b[0mdtype\u001b[0m\u001b[0;34m)\u001b[0m\u001b[0;34m\u001b[0m\u001b[0;34m\u001b[0m\u001b[0m\n",
      "\u001b[0;32m~/anaconda3/lib/python3.8/site-packages/sklearn/utils/validation.py\u001b[0m in \u001b[0;36mcheck_consistent_length\u001b[0;34m(*arrays)\u001b[0m\n\u001b[1;32m    253\u001b[0m     \u001b[0muniques\u001b[0m \u001b[0;34m=\u001b[0m \u001b[0mnp\u001b[0m\u001b[0;34m.\u001b[0m\u001b[0munique\u001b[0m\u001b[0;34m(\u001b[0m\u001b[0mlengths\u001b[0m\u001b[0;34m)\u001b[0m\u001b[0;34m\u001b[0m\u001b[0;34m\u001b[0m\u001b[0m\n\u001b[1;32m    254\u001b[0m     \u001b[0;32mif\u001b[0m \u001b[0mlen\u001b[0m\u001b[0;34m(\u001b[0m\u001b[0muniques\u001b[0m\u001b[0;34m)\u001b[0m \u001b[0;34m>\u001b[0m \u001b[0;36m1\u001b[0m\u001b[0;34m:\u001b[0m\u001b[0;34m\u001b[0m\u001b[0;34m\u001b[0m\u001b[0m\n\u001b[0;32m--> 255\u001b[0;31m         raise ValueError(\"Found input variables with inconsistent numbers of\"\n\u001b[0m\u001b[1;32m    256\u001b[0m                          \" samples: %r\" % [int(l) for l in lengths])\n\u001b[1;32m    257\u001b[0m \u001b[0;34m\u001b[0m\u001b[0m\n",
      "\u001b[0;31mValueError\u001b[0m: Found input variables with inconsistent numbers of samples: [100, 16596]"
     ]
    }
   ],
   "source": [
    "clips = np.arange(110,160,10).tolist()\n",
    "train_scores_rf = []\n",
    "test_scores_rf = []\n",
    "\n",
    "X_train = df_train_3.drop(columns=[\"ID\",\"Cycle\",\"RUL\",\"operarional_setting_1\",\"operarional_setting_2\"], axis=1)\n",
    "df_test_1_red = df_test_3.groupby(\"ID\").last().reset_index()\n",
    "X_test = df_test_3.drop(columns=[\"ID\",\"Cycle\",\"operarional_setting_1\",\"operarional_setting_2\"], axis=1)\n",
    "y_test = df_RUL_3\n",
    "\n",
    "for clip in clips:\n",
    "    \n",
    "    y_train_clip = df_train_3[\"RUL\"].clip(upper=clip)\n",
    "\n",
    "\n",
    "    regr = RandomForestRegressor()\n",
    "    rf_random_clip = RandomizedSearchCV(estimator=regr, param_distributions=random_grid, random_state=42)\n",
    "    rf_random_clip.fit(X_train, y_train_clip)\n",
    "    n_estimators = list(rf_random_clip.best_params_.values())[0]\n",
    "    max_depth = list(rf_random_clip.best_params_.values())[1]\n",
    "    hyper_regr = RandomForestRegressor(n_estimators=n_estimators, max_depth=max_depth)\n",
    "    hyper_regr.fit(X_train, y_train_clip)\n",
    "    \n",
    "    \n",
    "    rul_train_pred_rf = hyper_regr.predict(X_train)\n",
    "    r2_tr = r2_score(y_train_clip, rul_train_pred_rf)\n",
    "    train_scores_rf.append(r2_tr)\n",
    "       \n",
    "    rul_test_pred_rf = hyper_regr.predict(X_test)\n",
    "    r2_ts = r2_score(y_test, rul_test_pred_rf)\n",
    "    test_scores_rf.append(r2_ts)\n",
    "    \n",
    "    print(\"TRAIN METRICS for {} upper clip\".format(clip),\"               \",\"TEST METRICS for {} upper clip\".format(clip), \"\\n\",\n",
    "                  \"MAE: \", median_absolute_error(y_train_clip, rul_train_pred_rf),\"                       \",\"MAE: \", median_absolute_error(y_test, rul_test_pred_rf), \"\\n\",\n",
    "                  \"MSE: \", mean_squared_error(y_train_clip, rul_train_pred_rf),\"                       \",\"MSE: \", mean_squared_error(y_test, rul_test_pred_rf), \"\\n\",\n",
    "                  \"RMSE: \",np.sqrt(mean_squared_error(y_train_clip, rul_train_pred_rf)),\"                      \",\"RMSE: \",np.sqrt(mean_squared_error(y_test, rul_test_pred_rf)), \"\\n\",\n",
    "                  \"R2 score: \", r2_score(y_train_clip, rul_train_pred_rf),\"                 \",\"R2 score: \", r2_score(y_test, rul_test_pred_rf), \"\\n\", \"\\n\")"
   ]
  },
  {
   "cell_type": "code",
   "execution_count": null,
   "metadata": {},
   "outputs": [],
   "source": [
    "plt.plot(range(0,len(clips)),train_scores_rf,label=\"train scores\")\n",
    "plt.plot(range(0,len(clips)), test_scores_rf, label=\"test scores\")\n",
    "plt.legend()\n",
    "mx_test = max(test_scores_rf)\n",
    "mx_idx = test_scores_rf.index(mx_test)\n",
    "train_mx_test = train_scores_rf[mx_idx]\n",
    "top_clip = clips[mx_idx]\n",
    "print(\"Train Score from max Test Score: \", train_mx_test, \"\\n\",\n",
    "      \"Max Test Score: \", mx_test, \"\\n\",\n",
    "     \"Achieved with {} upper clipped RUL\".format(top_clip))"
   ]
  }
 ],
 "metadata": {
  "kernelspec": {
   "display_name": "Python 3",
   "language": "python",
   "name": "python3"
  },
  "language_info": {
   "codemirror_mode": {
    "name": "ipython",
    "version": 3
   },
   "file_extension": ".py",
   "mimetype": "text/x-python",
   "name": "python",
   "nbconvert_exporter": "python",
   "pygments_lexer": "ipython3",
   "version": "3.8.5"
  }
 },
 "nbformat": 4,
 "nbformat_minor": 4
}
